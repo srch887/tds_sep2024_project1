{
 "cells": [
  {
   "cell_type": "code",
   "execution_count": 1,
   "id": "de0f30db-89d9-4838-a102-068f95807eea",
   "metadata": {},
   "outputs": [],
   "source": [
    "import numpy as np\n",
    "import pandas as pd\n",
    "import datetime\n",
    "\n",
    "from sklearn.linear_model import LinearRegression"
   ]
  },
  {
   "cell_type": "code",
   "execution_count": 2,
   "id": "b3dee27b-0743-4072-a487-5466e46a22cb",
   "metadata": {},
   "outputs": [],
   "source": [
    "df_user = pd.read_csv('./users.csv')\n",
    "df_repo = pd.read_csv('./repositories.csv')"
   ]
  },
  {
   "cell_type": "code",
   "execution_count": 3,
   "id": "94c400e1-a69a-4db8-8b84-fa84af711f99",
   "metadata": {},
   "outputs": [
    {
     "data": {
      "text/html": [
       "<div>\n",
       "<style scoped>\n",
       "    .dataframe tbody tr th:only-of-type {\n",
       "        vertical-align: middle;\n",
       "    }\n",
       "\n",
       "    .dataframe tbody tr th {\n",
       "        vertical-align: top;\n",
       "    }\n",
       "\n",
       "    .dataframe thead th {\n",
       "        text-align: right;\n",
       "    }\n",
       "</style>\n",
       "<table border=\"1\" class=\"dataframe\">\n",
       "  <thead>\n",
       "    <tr style=\"text-align: right;\">\n",
       "      <th></th>\n",
       "      <th>login</th>\n",
       "      <th>name</th>\n",
       "      <th>company</th>\n",
       "      <th>location</th>\n",
       "      <th>email</th>\n",
       "      <th>hireable</th>\n",
       "      <th>bio</th>\n",
       "      <th>public_repos</th>\n",
       "      <th>followers</th>\n",
       "      <th>following</th>\n",
       "      <th>created_at</th>\n",
       "    </tr>\n",
       "  </thead>\n",
       "  <tbody>\n",
       "    <tr>\n",
       "      <th>0</th>\n",
       "      <td>iam-veeramalla</td>\n",
       "      <td>Abhishek Veeramalla</td>\n",
       "      <td>RED HAT</td>\n",
       "      <td>Hyderabad, India</td>\n",
       "      <td>NaN</td>\n",
       "      <td>NaN</td>\n",
       "      <td>Keep learning, sharing and growing || Principa...</td>\n",
       "      <td>45</td>\n",
       "      <td>16184</td>\n",
       "      <td>1</td>\n",
       "      <td>2018-09-19T05:58:52Z</td>\n",
       "    </tr>\n",
       "    <tr>\n",
       "      <th>1</th>\n",
       "      <td>in28minutes</td>\n",
       "      <td>NaN</td>\n",
       "      <td>IN28MINUTES</td>\n",
       "      <td>Hyderabad, India</td>\n",
       "      <td>in28minutes@gmail.com</td>\n",
       "      <td>True</td>\n",
       "      <td>Helping 1 Million Learners learn Programming, ...</td>\n",
       "      <td>102</td>\n",
       "      <td>14368</td>\n",
       "      <td>0</td>\n",
       "      <td>2015-09-05T14:09:58Z</td>\n",
       "    </tr>\n",
       "    <tr>\n",
       "      <th>2</th>\n",
       "      <td>stacksimplify</td>\n",
       "      <td>STACKSIMPLIFY</td>\n",
       "      <td>STACKSIMPLIFY</td>\n",
       "      <td>Hyderabad</td>\n",
       "      <td>stacksimplify@gmail.com</td>\n",
       "      <td>NaN</td>\n",
       "      <td>Best Selling Instructor on Udemy - 2,10,000 St...</td>\n",
       "      <td>47</td>\n",
       "      <td>3230</td>\n",
       "      <td>0</td>\n",
       "      <td>2019-03-07T11:25:23Z</td>\n",
       "    </tr>\n",
       "    <tr>\n",
       "      <th>3</th>\n",
       "      <td>thenaveensaggam</td>\n",
       "      <td>NAVEEN SAGGAM</td>\n",
       "      <td>HTTPS://WWW.UIBRAINS.COM</td>\n",
       "      <td>Hyderabad</td>\n",
       "      <td>thenaveensaggam@gmail.com</td>\n",
       "      <td>NaN</td>\n",
       "      <td>Founder: UiBrains Technologies\\r\\nEnthusiastic...</td>\n",
       "      <td>43</td>\n",
       "      <td>2164</td>\n",
       "      <td>1</td>\n",
       "      <td>2017-02-18T18:44:26Z</td>\n",
       "    </tr>\n",
       "    <tr>\n",
       "      <th>4</th>\n",
       "      <td>MadhavBahl</td>\n",
       "      <td>MADHAV BAHL</td>\n",
       "      <td>MICROSOFT</td>\n",
       "      <td>Hyderabad, India</td>\n",
       "      <td>madhavbahl10@gmail.com</td>\n",
       "      <td>True</td>\n",
       "      <td>The Lean Programmer | Software Engineer @Micro...</td>\n",
       "      <td>128</td>\n",
       "      <td>1589</td>\n",
       "      <td>1</td>\n",
       "      <td>2017-03-04T06:16:43Z</td>\n",
       "    </tr>\n",
       "  </tbody>\n",
       "</table>\n",
       "</div>"
      ],
      "text/plain": [
       "             login                 name                   company  \\\n",
       "0   iam-veeramalla  Abhishek Veeramalla                   RED HAT   \n",
       "1      in28minutes                  NaN               IN28MINUTES   \n",
       "2    stacksimplify        STACKSIMPLIFY             STACKSIMPLIFY   \n",
       "3  thenaveensaggam        NAVEEN SAGGAM  HTTPS://WWW.UIBRAINS.COM   \n",
       "4       MadhavBahl          MADHAV BAHL                 MICROSOFT   \n",
       "\n",
       "           location                      email hireable  \\\n",
       "0  Hyderabad, India                        NaN      NaN   \n",
       "1  Hyderabad, India      in28minutes@gmail.com     True   \n",
       "2         Hyderabad    stacksimplify@gmail.com      NaN   \n",
       "3         Hyderabad  thenaveensaggam@gmail.com      NaN   \n",
       "4  Hyderabad, India     madhavbahl10@gmail.com     True   \n",
       "\n",
       "                                                 bio  public_repos  followers  \\\n",
       "0  Keep learning, sharing and growing || Principa...            45      16184   \n",
       "1  Helping 1 Million Learners learn Programming, ...           102      14368   \n",
       "2  Best Selling Instructor on Udemy - 2,10,000 St...            47       3230   \n",
       "3  Founder: UiBrains Technologies\\r\\nEnthusiastic...            43       2164   \n",
       "4  The Lean Programmer | Software Engineer @Micro...           128       1589   \n",
       "\n",
       "   following            created_at  \n",
       "0          1  2018-09-19T05:58:52Z  \n",
       "1          0  2015-09-05T14:09:58Z  \n",
       "2          0  2019-03-07T11:25:23Z  \n",
       "3          1  2017-02-18T18:44:26Z  \n",
       "4          1  2017-03-04T06:16:43Z  "
      ]
     },
     "execution_count": 3,
     "metadata": {},
     "output_type": "execute_result"
    }
   ],
   "source": [
    "df_user.head()"
   ]
  },
  {
   "cell_type": "code",
   "execution_count": 4,
   "id": "242f218f-9da9-4c6c-a88e-bccddf56d575",
   "metadata": {
    "scrolled": true
   },
   "outputs": [
    {
     "data": {
      "text/html": [
       "<div>\n",
       "<style scoped>\n",
       "    .dataframe tbody tr th:only-of-type {\n",
       "        vertical-align: middle;\n",
       "    }\n",
       "\n",
       "    .dataframe tbody tr th {\n",
       "        vertical-align: top;\n",
       "    }\n",
       "\n",
       "    .dataframe thead th {\n",
       "        text-align: right;\n",
       "    }\n",
       "</style>\n",
       "<table border=\"1\" class=\"dataframe\">\n",
       "  <thead>\n",
       "    <tr style=\"text-align: right;\">\n",
       "      <th></th>\n",
       "      <th>login</th>\n",
       "      <th>full_name</th>\n",
       "      <th>created_at</th>\n",
       "      <th>stargazers_count</th>\n",
       "      <th>watchers_count</th>\n",
       "      <th>language</th>\n",
       "      <th>has_projects</th>\n",
       "      <th>has_wiki</th>\n",
       "      <th>license_name</th>\n",
       "    </tr>\n",
       "  </thead>\n",
       "  <tbody>\n",
       "    <tr>\n",
       "      <th>0</th>\n",
       "      <td>iam-veeramalla</td>\n",
       "      <td>iam-veeramalla/ansible-zero-to-hero</td>\n",
       "      <td>2024-05-15T12:27:58Z</td>\n",
       "      <td>607</td>\n",
       "      <td>607</td>\n",
       "      <td>HTML</td>\n",
       "      <td>True</td>\n",
       "      <td>False</td>\n",
       "      <td>Apache License 2.0</td>\n",
       "    </tr>\n",
       "    <tr>\n",
       "      <th>1</th>\n",
       "      <td>iam-veeramalla</td>\n",
       "      <td>iam-veeramalla/argo-cd</td>\n",
       "      <td>2020-11-27T11:24:01Z</td>\n",
       "      <td>199</td>\n",
       "      <td>199</td>\n",
       "      <td>NaN</td>\n",
       "      <td>True</td>\n",
       "      <td>True</td>\n",
       "      <td>Apache License 2.0</td>\n",
       "    </tr>\n",
       "    <tr>\n",
       "      <th>2</th>\n",
       "      <td>iam-veeramalla</td>\n",
       "      <td>iam-veeramalla/argo-perf-test</td>\n",
       "      <td>2022-05-25T11:51:37Z</td>\n",
       "      <td>60</td>\n",
       "      <td>60</td>\n",
       "      <td>NaN</td>\n",
       "      <td>True</td>\n",
       "      <td>True</td>\n",
       "      <td>NaN</td>\n",
       "    </tr>\n",
       "    <tr>\n",
       "      <th>3</th>\n",
       "      <td>iam-veeramalla</td>\n",
       "      <td>iam-veeramalla/argo-rollouts</td>\n",
       "      <td>2022-09-30T11:46:15Z</td>\n",
       "      <td>65</td>\n",
       "      <td>65</td>\n",
       "      <td>NaN</td>\n",
       "      <td>True</td>\n",
       "      <td>False</td>\n",
       "      <td>Apache License 2.0</td>\n",
       "    </tr>\n",
       "    <tr>\n",
       "      <th>4</th>\n",
       "      <td>iam-veeramalla</td>\n",
       "      <td>iam-veeramalla/argo-rollouts-manager</td>\n",
       "      <td>2023-05-15T02:23:07Z</td>\n",
       "      <td>89</td>\n",
       "      <td>89</td>\n",
       "      <td>NaN</td>\n",
       "      <td>True</td>\n",
       "      <td>True</td>\n",
       "      <td>Apache License 2.0</td>\n",
       "    </tr>\n",
       "  </tbody>\n",
       "</table>\n",
       "</div>"
      ],
      "text/plain": [
       "            login                             full_name            created_at  \\\n",
       "0  iam-veeramalla   iam-veeramalla/ansible-zero-to-hero  2024-05-15T12:27:58Z   \n",
       "1  iam-veeramalla                iam-veeramalla/argo-cd  2020-11-27T11:24:01Z   \n",
       "2  iam-veeramalla         iam-veeramalla/argo-perf-test  2022-05-25T11:51:37Z   \n",
       "3  iam-veeramalla          iam-veeramalla/argo-rollouts  2022-09-30T11:46:15Z   \n",
       "4  iam-veeramalla  iam-veeramalla/argo-rollouts-manager  2023-05-15T02:23:07Z   \n",
       "\n",
       "   stargazers_count  watchers_count language  has_projects  has_wiki  \\\n",
       "0               607             607     HTML          True     False   \n",
       "1               199             199      NaN          True      True   \n",
       "2                60              60      NaN          True      True   \n",
       "3                65              65      NaN          True     False   \n",
       "4                89              89      NaN          True      True   \n",
       "\n",
       "         license_name  \n",
       "0  Apache License 2.0  \n",
       "1  Apache License 2.0  \n",
       "2                 NaN  \n",
       "3  Apache License 2.0  \n",
       "4  Apache License 2.0  "
      ]
     },
     "execution_count": 4,
     "metadata": {},
     "output_type": "execute_result"
    }
   ],
   "source": [
    "df_repo.head()"
   ]
  },
  {
   "cell_type": "code",
   "execution_count": 5,
   "id": "0fa32f9c-2b4e-4fd2-894f-29b53c0d7dea",
   "metadata": {},
   "outputs": [],
   "source": [
    "df_user['hireable'].fillna(\"\", inplace=True)"
   ]
  },
  {
   "cell_type": "code",
   "execution_count": 6,
   "id": "94e275d4-ce9c-4083-ad3f-d8264e249166",
   "metadata": {},
   "outputs": [
    {
     "name": "stdout",
     "output_type": "stream",
     "text": [
      "<class 'pandas.core.frame.DataFrame'>\n",
      "RangeIndex: 503 entries, 0 to 502\n",
      "Data columns (total 11 columns):\n",
      " #   Column        Non-Null Count  Dtype \n",
      "---  ------        --------------  ----- \n",
      " 0   login         503 non-null    object\n",
      " 1   name          497 non-null    object\n",
      " 2   company       317 non-null    object\n",
      " 3   location      503 non-null    object\n",
      " 4   email         263 non-null    object\n",
      " 5   hireable      503 non-null    object\n",
      " 6   bio           415 non-null    object\n",
      " 7   public_repos  503 non-null    int64 \n",
      " 8   followers     503 non-null    int64 \n",
      " 9   following     503 non-null    int64 \n",
      " 10  created_at    503 non-null    object\n",
      "dtypes: int64(3), object(8)\n",
      "memory usage: 43.4+ KB\n"
     ]
    }
   ],
   "source": [
    "df_user.info()"
   ]
  },
  {
   "cell_type": "code",
   "execution_count": 7,
   "id": "a3982010-24f7-482d-9ab8-f93307bcb4fa",
   "metadata": {},
   "outputs": [
    {
     "name": "stdout",
     "output_type": "stream",
     "text": [
      "<class 'pandas.core.frame.DataFrame'>\n",
      "RangeIndex: 35185 entries, 0 to 35184\n",
      "Data columns (total 9 columns):\n",
      " #   Column            Non-Null Count  Dtype \n",
      "---  ------            --------------  ----- \n",
      " 0   login             35185 non-null  object\n",
      " 1   full_name         35185 non-null  object\n",
      " 2   created_at        35185 non-null  object\n",
      " 3   stargazers_count  35185 non-null  int64 \n",
      " 4   watchers_count    35185 non-null  int64 \n",
      " 5   language          25631 non-null  object\n",
      " 6   has_projects      35185 non-null  bool  \n",
      " 7   has_wiki          35185 non-null  bool  \n",
      " 8   license_name      11749 non-null  object\n",
      "dtypes: bool(2), int64(2), object(5)\n",
      "memory usage: 1.9+ MB\n"
     ]
    }
   ],
   "source": [
    "df_repo.info()"
   ]
  },
  {
   "cell_type": "code",
   "execution_count": 8,
   "id": "774f202f-e780-4da5-a59a-408416f681a2",
   "metadata": {},
   "outputs": [],
   "source": [
    "df_user['created_at'] = pd.to_datetime(df_user['created_at'])"
   ]
  },
  {
   "cell_type": "code",
   "execution_count": 9,
   "id": "34651362-b153-4341-b11c-a00c438f5b39",
   "metadata": {},
   "outputs": [],
   "source": [
    "df_repo['created_at'] = pd.to_datetime(df_repo['created_at'])"
   ]
  },
  {
   "cell_type": "markdown",
   "id": "fb022936-8e63-4e60-a725-da83d157038c",
   "metadata": {},
   "source": [
    "# Q1"
   ]
  },
  {
   "cell_type": "code",
   "execution_count": 10,
   "id": "f393ce30-da0c-472a-abc3-6edaacb5e15e",
   "metadata": {
    "scrolled": true
   },
   "outputs": [
    {
     "data": {
      "text/plain": [
       "0     iam-veeramalla\n",
       "1        in28minutes\n",
       "2      stacksimplify\n",
       "3    thenaveensaggam\n",
       "4         MadhavBahl\n",
       "Name: login, dtype: object"
      ]
     },
     "execution_count": 10,
     "metadata": {},
     "output_type": "execute_result"
    }
   ],
   "source": [
    "df_user.sort_values(by='followers', ascending=False)['login'].head()"
   ]
  },
  {
   "cell_type": "markdown",
   "id": "7ba1c242-4b8b-484e-bbda-e390336c8c1d",
   "metadata": {},
   "source": [
    "iam-veeramalla,in28minutes,stacksimplify,thenaveensaggam,MadhavBahl"
   ]
  },
  {
   "cell_type": "markdown",
   "id": "0ce98981-ebdf-4e73-8932-ebc8f490126c",
   "metadata": {},
   "source": [
    "# Q2"
   ]
  },
  {
   "cell_type": "code",
   "execution_count": 11,
   "id": "6f42d73a-1ed5-40de-95b7-61b6871a6651",
   "metadata": {},
   "outputs": [
    {
     "data": {
      "text/plain": [
       "89            shabda\n",
       "28          sitaramc\n",
       "484     bagwanpankaj\n",
       "263    srikanthlogic\n",
       "473      kulbirsaini\n",
       "Name: login, dtype: object"
      ]
     },
     "execution_count": 11,
     "metadata": {},
     "output_type": "execute_result"
    }
   ],
   "source": [
    "df_user.sort_values(by='created_at', ascending=True)['login'].head()"
   ]
  },
  {
   "cell_type": "markdown",
   "id": "e9b810d2-0f84-4221-88f6-8ea8a9aca9f6",
   "metadata": {},
   "source": [
    "shabda,sitaramc,bagwanpankaj,srikanthlogic,kulbirsaini"
   ]
  },
  {
   "cell_type": "markdown",
   "id": "7bdc9b7d-6265-40d6-aeae-918d7ca8dbc2",
   "metadata": {},
   "source": [
    "# Q3"
   ]
  },
  {
   "cell_type": "code",
   "execution_count": 12,
   "id": "3f637e24-0e43-4673-81ac-4c88a5887e9c",
   "metadata": {},
   "outputs": [
    {
     "data": {
      "text/plain": [
       "license_name\n",
       "MIT License           5942\n",
       "Apache License 2.0    1973\n",
       "Other                 1400\n",
       "Name: count, dtype: int64"
      ]
     },
     "execution_count": 12,
     "metadata": {},
     "output_type": "execute_result"
    }
   ],
   "source": [
    "df_repo['license_name'].value_counts().head(3)"
   ]
  },
  {
   "cell_type": "markdown",
   "id": "c799aacd-21ef-4dc2-b338-f9b2ca8516f6",
   "metadata": {},
   "source": [
    "MIT License,Apache License 2.0,Other"
   ]
  },
  {
   "cell_type": "markdown",
   "id": "51f762c4-5fa1-4408-aa16-082d709a37a2",
   "metadata": {},
   "source": [
    "# Q4"
   ]
  },
  {
   "cell_type": "code",
   "execution_count": 13,
   "id": "73c3f98f-c5a5-4ae3-bc9a-2e59de3e4d45",
   "metadata": {},
   "outputs": [
    {
     "data": {
      "text/plain": [
       "company\n",
       "MICROSOFT    17\n",
       "Name: count, dtype: int64"
      ]
     },
     "execution_count": 13,
     "metadata": {},
     "output_type": "execute_result"
    }
   ],
   "source": [
    "df_user['company'].value_counts().head(1)"
   ]
  },
  {
   "cell_type": "markdown",
   "id": "e8709533-d010-424b-ab7c-e34cfa6a3366",
   "metadata": {},
   "source": [
    "IIIT HYDERABAD"
   ]
  },
  {
   "cell_type": "markdown",
   "id": "797e10aa-135a-4f98-a06a-5d77999c2974",
   "metadata": {},
   "source": [
    "# Q5"
   ]
  },
  {
   "cell_type": "code",
   "execution_count": 14,
   "id": "d34c7880-bd4d-4af3-9469-89bae4548c95",
   "metadata": {},
   "outputs": [
    {
     "data": {
      "text/plain": [
       "language\n",
       "JavaScript    5628\n",
       "Name: count, dtype: int64"
      ]
     },
     "execution_count": 14,
     "metadata": {},
     "output_type": "execute_result"
    }
   ],
   "source": [
    "df_repo['language'].value_counts().head(1)"
   ]
  },
  {
   "cell_type": "markdown",
   "id": "2e92c88c-2665-422a-a38d-9e386e5a9ed4",
   "metadata": {},
   "source": [
    "JavaScript"
   ]
  },
  {
   "cell_type": "markdown",
   "id": "b9575712-cd79-4307-909c-10860aa0fc07",
   "metadata": {},
   "source": [
    "# Q6"
   ]
  },
  {
   "cell_type": "code",
   "execution_count": 15,
   "id": "4e7d8467-d3ad-41ee-a470-902201295b2a",
   "metadata": {},
   "outputs": [],
   "source": [
    "filtered_users = df_user[df_user['created_at'] > '2020-01-01']"
   ]
  },
  {
   "cell_type": "code",
   "execution_count": 16,
   "id": "f6d4a922-a6ae-45fc-bd45-6653eb1b770b",
   "metadata": {},
   "outputs": [],
   "source": [
    "joined_df = pd.merge(filtered_users, df_repo, on='login')"
   ]
  },
  {
   "cell_type": "code",
   "execution_count": 17,
   "id": "dca4b32e-595d-468e-a985-be6b09bc7d7f",
   "metadata": {},
   "outputs": [
    {
     "data": {
      "text/plain": [
       "language\n",
       "JavaScript    1622\n",
       "HTML           777\n",
       "Name: count, dtype: int64"
      ]
     },
     "execution_count": 17,
     "metadata": {},
     "output_type": "execute_result"
    }
   ],
   "source": [
    "joined_df['language'].value_counts().head(2)"
   ]
  },
  {
   "cell_type": "markdown",
   "id": "d34cf681-aada-4177-94db-5f2c973e876d",
   "metadata": {},
   "source": [
    "HTML"
   ]
  },
  {
   "cell_type": "markdown",
   "id": "174a9ff4-6eb6-42cb-92de-e9b0859aacb6",
   "metadata": {},
   "source": [
    "# Q7"
   ]
  },
  {
   "cell_type": "code",
   "execution_count": 18,
   "id": "048c11d9-4c33-47d0-b47a-08022b79ad93",
   "metadata": {},
   "outputs": [],
   "source": [
    "average_stars_per_language = df_repo.groupby('language')['stargazers_count'].mean()"
   ]
  },
  {
   "cell_type": "code",
   "execution_count": 19,
   "id": "06780d6e-9d6a-4b53-8373-f4f145756ef5",
   "metadata": {},
   "outputs": [
    {
     "data": {
      "text/plain": [
       "'Perl'"
      ]
     },
     "execution_count": 19,
     "metadata": {},
     "output_type": "execute_result"
    }
   ],
   "source": [
    "average_stars_per_language.idxmax()"
   ]
  },
  {
   "cell_type": "markdown",
   "id": "7a23cf1f-0e06-451d-9a55-bf14a89b6552",
   "metadata": {},
   "source": [
    "# Q8"
   ]
  },
  {
   "cell_type": "code",
   "execution_count": 20,
   "id": "585c0343-54d0-4bac-8bdb-822ec55b0d12",
   "metadata": {},
   "outputs": [],
   "source": [
    "df_leader_str = df_user.copy()"
   ]
  },
  {
   "cell_type": "code",
   "execution_count": 21,
   "id": "533ca417-26ba-4ff3-b189-39c9aa2e77ff",
   "metadata": {},
   "outputs": [],
   "source": [
    "df_leader_str['leader_strength'] = df_leader_str['followers']/(1 + df_leader_str['following'])"
   ]
  },
  {
   "cell_type": "code",
   "execution_count": 22,
   "id": "4f3b2af6-8029-4a2f-9428-edb52d7f9e07",
   "metadata": {},
   "outputs": [
    {
     "data": {
      "text/plain": [
       "1        in28minutes\n",
       "0     iam-veeramalla\n",
       "2      stacksimplify\n",
       "6      ashokitschool\n",
       "3    thenaveensaggam\n",
       "Name: login, dtype: object"
      ]
     },
     "execution_count": 22,
     "metadata": {},
     "output_type": "execute_result"
    }
   ],
   "source": [
    "df_leader_str.sort_values(by='leader_strength', ascending=False)['login'].head()"
   ]
  },
  {
   "cell_type": "markdown",
   "id": "16e5c3e0-ab1f-47f9-be59-9d74fa4c2720",
   "metadata": {},
   "source": [
    "in28minutes,iam-veeramalla,stacksimplify,ashokitschool,thenaveensaggam"
   ]
  },
  {
   "cell_type": "markdown",
   "id": "16e922f4-a82c-42b9-b667-034b4998c03d",
   "metadata": {},
   "source": [
    "# Q9"
   ]
  },
  {
   "cell_type": "code",
   "execution_count": 23,
   "id": "4a7b931b-2f19-4cc1-91e1-7c8f64500f3f",
   "metadata": {},
   "outputs": [
    {
     "data": {
      "text/plain": [
       "0.006259836233742388"
      ]
     },
     "execution_count": 23,
     "metadata": {},
     "output_type": "execute_result"
    }
   ],
   "source": [
    "df_user['followers'].corr(df_user['public_repos'])"
   ]
  },
  {
   "cell_type": "markdown",
   "id": "a5e41ccd-4ba2-4b6f-90db-9e6cce0e1db5",
   "metadata": {},
   "source": [
    "# Q10"
   ]
  },
  {
   "cell_type": "code",
   "execution_count": 24,
   "id": "ced3eaf2-b1a1-4642-8f1e-0282835cbbe2",
   "metadata": {},
   "outputs": [],
   "source": [
    "X = df_user[['public_repos']]\n",
    "y = df_user['followers']"
   ]
  },
  {
   "cell_type": "code",
   "execution_count": 25,
   "id": "aa6cd540-316e-4df7-a48b-38a11f119712",
   "metadata": {},
   "outputs": [
    {
     "data": {
      "text/html": [
       "<style>#sk-container-id-1 {color: black;}#sk-container-id-1 pre{padding: 0;}#sk-container-id-1 div.sk-toggleable {background-color: white;}#sk-container-id-1 label.sk-toggleable__label {cursor: pointer;display: block;width: 100%;margin-bottom: 0;padding: 0.3em;box-sizing: border-box;text-align: center;}#sk-container-id-1 label.sk-toggleable__label-arrow:before {content: \"▸\";float: left;margin-right: 0.25em;color: #696969;}#sk-container-id-1 label.sk-toggleable__label-arrow:hover:before {color: black;}#sk-container-id-1 div.sk-estimator:hover label.sk-toggleable__label-arrow:before {color: black;}#sk-container-id-1 div.sk-toggleable__content {max-height: 0;max-width: 0;overflow: hidden;text-align: left;background-color: #f0f8ff;}#sk-container-id-1 div.sk-toggleable__content pre {margin: 0.2em;color: black;border-radius: 0.25em;background-color: #f0f8ff;}#sk-container-id-1 input.sk-toggleable__control:checked~div.sk-toggleable__content {max-height: 200px;max-width: 100%;overflow: auto;}#sk-container-id-1 input.sk-toggleable__control:checked~label.sk-toggleable__label-arrow:before {content: \"▾\";}#sk-container-id-1 div.sk-estimator input.sk-toggleable__control:checked~label.sk-toggleable__label {background-color: #d4ebff;}#sk-container-id-1 div.sk-label input.sk-toggleable__control:checked~label.sk-toggleable__label {background-color: #d4ebff;}#sk-container-id-1 input.sk-hidden--visually {border: 0;clip: rect(1px 1px 1px 1px);clip: rect(1px, 1px, 1px, 1px);height: 1px;margin: -1px;overflow: hidden;padding: 0;position: absolute;width: 1px;}#sk-container-id-1 div.sk-estimator {font-family: monospace;background-color: #f0f8ff;border: 1px dotted black;border-radius: 0.25em;box-sizing: border-box;margin-bottom: 0.5em;}#sk-container-id-1 div.sk-estimator:hover {background-color: #d4ebff;}#sk-container-id-1 div.sk-parallel-item::after {content: \"\";width: 100%;border-bottom: 1px solid gray;flex-grow: 1;}#sk-container-id-1 div.sk-label:hover label.sk-toggleable__label {background-color: #d4ebff;}#sk-container-id-1 div.sk-serial::before {content: \"\";position: absolute;border-left: 1px solid gray;box-sizing: border-box;top: 0;bottom: 0;left: 50%;z-index: 0;}#sk-container-id-1 div.sk-serial {display: flex;flex-direction: column;align-items: center;background-color: white;padding-right: 0.2em;padding-left: 0.2em;position: relative;}#sk-container-id-1 div.sk-item {position: relative;z-index: 1;}#sk-container-id-1 div.sk-parallel {display: flex;align-items: stretch;justify-content: center;background-color: white;position: relative;}#sk-container-id-1 div.sk-item::before, #sk-container-id-1 div.sk-parallel-item::before {content: \"\";position: absolute;border-left: 1px solid gray;box-sizing: border-box;top: 0;bottom: 0;left: 50%;z-index: -1;}#sk-container-id-1 div.sk-parallel-item {display: flex;flex-direction: column;z-index: 1;position: relative;background-color: white;}#sk-container-id-1 div.sk-parallel-item:first-child::after {align-self: flex-end;width: 50%;}#sk-container-id-1 div.sk-parallel-item:last-child::after {align-self: flex-start;width: 50%;}#sk-container-id-1 div.sk-parallel-item:only-child::after {width: 0;}#sk-container-id-1 div.sk-dashed-wrapped {border: 1px dashed gray;margin: 0 0.4em 0.5em 0.4em;box-sizing: border-box;padding-bottom: 0.4em;background-color: white;}#sk-container-id-1 div.sk-label label {font-family: monospace;font-weight: bold;display: inline-block;line-height: 1.2em;}#sk-container-id-1 div.sk-label-container {text-align: center;}#sk-container-id-1 div.sk-container {/* jupyter's `normalize.less` sets `[hidden] { display: none; }` but bootstrap.min.css set `[hidden] { display: none !important; }` so we also need the `!important` here to be able to override the default hidden behavior on the sphinx rendered scikit-learn.org. See: https://github.com/scikit-learn/scikit-learn/issues/21755 */display: inline-block !important;position: relative;}#sk-container-id-1 div.sk-text-repr-fallback {display: none;}</style><div id=\"sk-container-id-1\" class=\"sk-top-container\"><div class=\"sk-text-repr-fallback\"><pre>LinearRegression()</pre><b>In a Jupyter environment, please rerun this cell to show the HTML representation or trust the notebook. <br />On GitHub, the HTML representation is unable to render, please try loading this page with nbviewer.org.</b></div><div class=\"sk-container\" hidden><div class=\"sk-item\"><div class=\"sk-estimator sk-toggleable\"><input class=\"sk-toggleable__control sk-hidden--visually\" id=\"sk-estimator-id-1\" type=\"checkbox\" checked><label for=\"sk-estimator-id-1\" class=\"sk-toggleable__label sk-toggleable__label-arrow\">LinearRegression</label><div class=\"sk-toggleable__content\"><pre>LinearRegression()</pre></div></div></div></div></div>"
      ],
      "text/plain": [
       "LinearRegression()"
      ]
     },
     "execution_count": 25,
     "metadata": {},
     "output_type": "execute_result"
    }
   ],
   "source": [
    "model = LinearRegression()\n",
    "model.fit(X, y)"
   ]
  },
  {
   "cell_type": "code",
   "execution_count": 26,
   "id": "5c8059a1-cc08-4a3d-bcd7-a64f3bd2911c",
   "metadata": {
    "scrolled": true
   },
   "outputs": [
    {
     "data": {
      "text/plain": [
       "0.0698094507828575"
      ]
     },
     "execution_count": 26,
     "metadata": {},
     "output_type": "execute_result"
    }
   ],
   "source": [
    "model.coef_[0]"
   ]
  },
  {
   "cell_type": "markdown",
   "id": "cd078e95-9018-42e1-a6c1-a512404da6f9",
   "metadata": {},
   "source": [
    "# Q11"
   ]
  },
  {
   "cell_type": "code",
   "execution_count": 27,
   "id": "a89421ab-75e2-415b-98b8-9d10cb382309",
   "metadata": {},
   "outputs": [
    {
     "data": {
      "text/plain": [
       "0.17339940645504281"
      ]
     },
     "execution_count": 27,
     "metadata": {},
     "output_type": "execute_result"
    }
   ],
   "source": [
    "df_repo['has_projects'].dropna().corr(df_repo['has_wiki'].dropna())"
   ]
  },
  {
   "cell_type": "markdown",
   "id": "635fd0da-b432-4367-8765-b94e04ab18a6",
   "metadata": {},
   "source": [
    "# Q12"
   ]
  },
  {
   "cell_type": "code",
   "execution_count": 28,
   "id": "745a9ebc-26dd-4005-870c-8c9599f741de",
   "metadata": {},
   "outputs": [],
   "source": [
    "avg_following_hireable = df_user[df_user['hireable'] == True]['following'].mean()"
   ]
  },
  {
   "cell_type": "code",
   "execution_count": 29,
   "id": "ff55608a-405d-4d2d-8b28-44c7b9242729",
   "metadata": {},
   "outputs": [],
   "source": [
    "avg_following_not_hireable = df_user[df_user['hireable'] != True]['following'].mean()"
   ]
  },
  {
   "cell_type": "code",
   "execution_count": 30,
   "id": "0beb742c-0e23-40b1-9cd0-d965eed9c487",
   "metadata": {},
   "outputs": [
    {
     "name": "stdout",
     "output_type": "stream",
     "text": [
      "33.676825809895576\n"
     ]
    }
   ],
   "source": [
    "print(avg_following_hireable - avg_following_not_hireable)"
   ]
  },
  {
   "cell_type": "markdown",
   "id": "48ce7a4a-e805-4b31-8b18-45ed3723b9cc",
   "metadata": {},
   "source": [
    "# Q13"
   ]
  },
  {
   "cell_type": "code",
   "execution_count": 31,
   "id": "9e8114a7-71a6-45ce-b7af-93187e5a3ff5",
   "metadata": {},
   "outputs": [],
   "source": [
    "df_with_user_bio = df_user.copy()"
   ]
  },
  {
   "cell_type": "code",
   "execution_count": 32,
   "id": "77013de2-c8fd-470f-bee4-6346cd9458ff",
   "metadata": {},
   "outputs": [
    {
     "name": "stdout",
     "output_type": "stream",
     "text": [
      "<class 'pandas.core.frame.DataFrame'>\n",
      "RangeIndex: 503 entries, 0 to 502\n",
      "Data columns (total 11 columns):\n",
      " #   Column        Non-Null Count  Dtype              \n",
      "---  ------        --------------  -----              \n",
      " 0   login         503 non-null    object             \n",
      " 1   name          497 non-null    object             \n",
      " 2   company       317 non-null    object             \n",
      " 3   location      503 non-null    object             \n",
      " 4   email         263 non-null    object             \n",
      " 5   hireable      503 non-null    object             \n",
      " 6   bio           415 non-null    object             \n",
      " 7   public_repos  503 non-null    int64              \n",
      " 8   followers     503 non-null    int64              \n",
      " 9   following     503 non-null    int64              \n",
      " 10  created_at    503 non-null    datetime64[ns, UTC]\n",
      "dtypes: datetime64[ns, UTC](1), int64(3), object(7)\n",
      "memory usage: 43.4+ KB\n"
     ]
    }
   ],
   "source": [
    "df_with_user_bio.info()"
   ]
  },
  {
   "cell_type": "code",
   "execution_count": 33,
   "id": "b0efb098-c60d-4d87-a40e-3e2244976893",
   "metadata": {},
   "outputs": [],
   "source": [
    "df_with_user_bio.dropna(subset='bio', inplace=True)"
   ]
  },
  {
   "cell_type": "code",
   "execution_count": 34,
   "id": "0c252d08-1ed9-466c-90f9-4f108f2b4453",
   "metadata": {},
   "outputs": [],
   "source": [
    "df_with_user_bio['bio_length'] = df_with_user_bio['bio'].apply(lambda x: len(str(x).split(' ')))"
   ]
  },
  {
   "cell_type": "code",
   "execution_count": 52,
   "id": "e4589f14-81e0-4853-a92e-3ee526fd0028",
   "metadata": {},
   "outputs": [],
   "source": [
    "X = df_with_user_bio[['bio_length']]\n",
    "y = df_with_user_bio['followers']"
   ]
  },
  {
   "cell_type": "code",
   "execution_count": 53,
   "id": "cdf5181a-a85b-48db-be5c-425bf6a4ac36",
   "metadata": {},
   "outputs": [
    {
     "data": {
      "text/html": [
       "<style>#sk-container-id-3 {color: black;}#sk-container-id-3 pre{padding: 0;}#sk-container-id-3 div.sk-toggleable {background-color: white;}#sk-container-id-3 label.sk-toggleable__label {cursor: pointer;display: block;width: 100%;margin-bottom: 0;padding: 0.3em;box-sizing: border-box;text-align: center;}#sk-container-id-3 label.sk-toggleable__label-arrow:before {content: \"▸\";float: left;margin-right: 0.25em;color: #696969;}#sk-container-id-3 label.sk-toggleable__label-arrow:hover:before {color: black;}#sk-container-id-3 div.sk-estimator:hover label.sk-toggleable__label-arrow:before {color: black;}#sk-container-id-3 div.sk-toggleable__content {max-height: 0;max-width: 0;overflow: hidden;text-align: left;background-color: #f0f8ff;}#sk-container-id-3 div.sk-toggleable__content pre {margin: 0.2em;color: black;border-radius: 0.25em;background-color: #f0f8ff;}#sk-container-id-3 input.sk-toggleable__control:checked~div.sk-toggleable__content {max-height: 200px;max-width: 100%;overflow: auto;}#sk-container-id-3 input.sk-toggleable__control:checked~label.sk-toggleable__label-arrow:before {content: \"▾\";}#sk-container-id-3 div.sk-estimator input.sk-toggleable__control:checked~label.sk-toggleable__label {background-color: #d4ebff;}#sk-container-id-3 div.sk-label input.sk-toggleable__control:checked~label.sk-toggleable__label {background-color: #d4ebff;}#sk-container-id-3 input.sk-hidden--visually {border: 0;clip: rect(1px 1px 1px 1px);clip: rect(1px, 1px, 1px, 1px);height: 1px;margin: -1px;overflow: hidden;padding: 0;position: absolute;width: 1px;}#sk-container-id-3 div.sk-estimator {font-family: monospace;background-color: #f0f8ff;border: 1px dotted black;border-radius: 0.25em;box-sizing: border-box;margin-bottom: 0.5em;}#sk-container-id-3 div.sk-estimator:hover {background-color: #d4ebff;}#sk-container-id-3 div.sk-parallel-item::after {content: \"\";width: 100%;border-bottom: 1px solid gray;flex-grow: 1;}#sk-container-id-3 div.sk-label:hover label.sk-toggleable__label {background-color: #d4ebff;}#sk-container-id-3 div.sk-serial::before {content: \"\";position: absolute;border-left: 1px solid gray;box-sizing: border-box;top: 0;bottom: 0;left: 50%;z-index: 0;}#sk-container-id-3 div.sk-serial {display: flex;flex-direction: column;align-items: center;background-color: white;padding-right: 0.2em;padding-left: 0.2em;position: relative;}#sk-container-id-3 div.sk-item {position: relative;z-index: 1;}#sk-container-id-3 div.sk-parallel {display: flex;align-items: stretch;justify-content: center;background-color: white;position: relative;}#sk-container-id-3 div.sk-item::before, #sk-container-id-3 div.sk-parallel-item::before {content: \"\";position: absolute;border-left: 1px solid gray;box-sizing: border-box;top: 0;bottom: 0;left: 50%;z-index: -1;}#sk-container-id-3 div.sk-parallel-item {display: flex;flex-direction: column;z-index: 1;position: relative;background-color: white;}#sk-container-id-3 div.sk-parallel-item:first-child::after {align-self: flex-end;width: 50%;}#sk-container-id-3 div.sk-parallel-item:last-child::after {align-self: flex-start;width: 50%;}#sk-container-id-3 div.sk-parallel-item:only-child::after {width: 0;}#sk-container-id-3 div.sk-dashed-wrapped {border: 1px dashed gray;margin: 0 0.4em 0.5em 0.4em;box-sizing: border-box;padding-bottom: 0.4em;background-color: white;}#sk-container-id-3 div.sk-label label {font-family: monospace;font-weight: bold;display: inline-block;line-height: 1.2em;}#sk-container-id-3 div.sk-label-container {text-align: center;}#sk-container-id-3 div.sk-container {/* jupyter's `normalize.less` sets `[hidden] { display: none; }` but bootstrap.min.css set `[hidden] { display: none !important; }` so we also need the `!important` here to be able to override the default hidden behavior on the sphinx rendered scikit-learn.org. See: https://github.com/scikit-learn/scikit-learn/issues/21755 */display: inline-block !important;position: relative;}#sk-container-id-3 div.sk-text-repr-fallback {display: none;}</style><div id=\"sk-container-id-3\" class=\"sk-top-container\"><div class=\"sk-text-repr-fallback\"><pre>LinearRegression()</pre><b>In a Jupyter environment, please rerun this cell to show the HTML representation or trust the notebook. <br />On GitHub, the HTML representation is unable to render, please try loading this page with nbviewer.org.</b></div><div class=\"sk-container\" hidden><div class=\"sk-item\"><div class=\"sk-estimator sk-toggleable\"><input class=\"sk-toggleable__control sk-hidden--visually\" id=\"sk-estimator-id-3\" type=\"checkbox\" checked><label for=\"sk-estimator-id-3\" class=\"sk-toggleable__label sk-toggleable__label-arrow\">LinearRegression</label><div class=\"sk-toggleable__content\"><pre>LinearRegression()</pre></div></div></div></div></div>"
      ],
      "text/plain": [
       "LinearRegression()"
      ]
     },
     "execution_count": 53,
     "metadata": {},
     "output_type": "execute_result"
    }
   ],
   "source": [
    "model = LinearRegression()\n",
    "model.fit(X, y)"
   ]
  },
  {
   "cell_type": "code",
   "execution_count": 54,
   "id": "01177637-d642-404a-92e7-aefa0161d3d5",
   "metadata": {},
   "outputs": [
    {
     "data": {
      "text/plain": [
       "7.001164654840586"
      ]
     },
     "execution_count": 54,
     "metadata": {},
     "output_type": "execute_result"
    }
   ],
   "source": [
    "model.coef_[0]"
   ]
  },
  {
   "cell_type": "markdown",
   "id": "eae7c2d9-d3a9-4538-b161-48bb322641ca",
   "metadata": {},
   "source": [
    "# Q14"
   ]
  },
  {
   "cell_type": "code",
   "execution_count": 39,
   "id": "0a9c7520-0212-46cb-b9ec-d909e6f4c726",
   "metadata": {},
   "outputs": [],
   "source": [
    "weekend_repos = df_repo[(df_repo['created_at'].dt.dayofweek) >= 5]"
   ]
  },
  {
   "cell_type": "code",
   "execution_count": 40,
   "id": "0576722e-0a66-40d1-9038-7a4efef3b684",
   "metadata": {},
   "outputs": [
    {
     "data": {
      "text/html": [
       "<div>\n",
       "<style scoped>\n",
       "    .dataframe tbody tr th:only-of-type {\n",
       "        vertical-align: middle;\n",
       "    }\n",
       "\n",
       "    .dataframe tbody tr th {\n",
       "        vertical-align: top;\n",
       "    }\n",
       "\n",
       "    .dataframe thead th {\n",
       "        text-align: right;\n",
       "    }\n",
       "</style>\n",
       "<table border=\"1\" class=\"dataframe\">\n",
       "  <thead>\n",
       "    <tr style=\"text-align: right;\">\n",
       "      <th></th>\n",
       "      <th>login</th>\n",
       "      <th>full_name</th>\n",
       "      <th>created_at</th>\n",
       "      <th>stargazers_count</th>\n",
       "      <th>watchers_count</th>\n",
       "      <th>language</th>\n",
       "      <th>has_projects</th>\n",
       "      <th>has_wiki</th>\n",
       "      <th>license_name</th>\n",
       "    </tr>\n",
       "  </thead>\n",
       "  <tbody>\n",
       "    <tr>\n",
       "      <th>18</th>\n",
       "      <td>iam-veeramalla</td>\n",
       "      <td>iam-veeramalla/devops-project-ideas</td>\n",
       "      <td>2023-04-22 13:51:19+00:00</td>\n",
       "      <td>285</td>\n",
       "      <td>285</td>\n",
       "      <td>NaN</td>\n",
       "      <td>True</td>\n",
       "      <td>True</td>\n",
       "      <td>MIT License</td>\n",
       "    </tr>\n",
       "    <tr>\n",
       "      <th>25</th>\n",
       "      <td>iam-veeramalla</td>\n",
       "      <td>iam-veeramalla/go-web-app</td>\n",
       "      <td>2024-07-06 18:04:42+00:00</td>\n",
       "      <td>142</td>\n",
       "      <td>142</td>\n",
       "      <td>HTML</td>\n",
       "      <td>True</td>\n",
       "      <td>False</td>\n",
       "      <td>Apache License 2.0</td>\n",
       "    </tr>\n",
       "    <tr>\n",
       "      <th>32</th>\n",
       "      <td>iam-veeramalla</td>\n",
       "      <td>iam-veeramalla/k8s-kyverno-argocd</td>\n",
       "      <td>2023-02-19 05:45:11+00:00</td>\n",
       "      <td>202</td>\n",
       "      <td>202</td>\n",
       "      <td>NaN</td>\n",
       "      <td>True</td>\n",
       "      <td>True</td>\n",
       "      <td>NaN</td>\n",
       "    </tr>\n",
       "    <tr>\n",
       "      <th>35</th>\n",
       "      <td>iam-veeramalla</td>\n",
       "      <td>iam-veeramalla/MERN-docker-compose</td>\n",
       "      <td>2024-08-31 17:17:07+00:00</td>\n",
       "      <td>82</td>\n",
       "      <td>82</td>\n",
       "      <td>JavaScript</td>\n",
       "      <td>True</td>\n",
       "      <td>True</td>\n",
       "      <td>NaN</td>\n",
       "    </tr>\n",
       "    <tr>\n",
       "      <th>37</th>\n",
       "      <td>iam-veeramalla</td>\n",
       "      <td>iam-veeramalla/officeassistant</td>\n",
       "      <td>2020-07-25 07:35:13+00:00</td>\n",
       "      <td>42</td>\n",
       "      <td>42</td>\n",
       "      <td>JavaScript</td>\n",
       "      <td>True</td>\n",
       "      <td>True</td>\n",
       "      <td>NaN</td>\n",
       "    </tr>\n",
       "  </tbody>\n",
       "</table>\n",
       "</div>"
      ],
      "text/plain": [
       "             login                            full_name  \\\n",
       "18  iam-veeramalla  iam-veeramalla/devops-project-ideas   \n",
       "25  iam-veeramalla            iam-veeramalla/go-web-app   \n",
       "32  iam-veeramalla    iam-veeramalla/k8s-kyverno-argocd   \n",
       "35  iam-veeramalla   iam-veeramalla/MERN-docker-compose   \n",
       "37  iam-veeramalla       iam-veeramalla/officeassistant   \n",
       "\n",
       "                  created_at  stargazers_count  watchers_count    language  \\\n",
       "18 2023-04-22 13:51:19+00:00               285             285         NaN   \n",
       "25 2024-07-06 18:04:42+00:00               142             142        HTML   \n",
       "32 2023-02-19 05:45:11+00:00               202             202         NaN   \n",
       "35 2024-08-31 17:17:07+00:00                82              82  JavaScript   \n",
       "37 2020-07-25 07:35:13+00:00                42              42  JavaScript   \n",
       "\n",
       "    has_projects  has_wiki        license_name  \n",
       "18          True      True         MIT License  \n",
       "25          True     False  Apache License 2.0  \n",
       "32          True      True                 NaN  \n",
       "35          True      True                 NaN  \n",
       "37          True      True                 NaN  "
      ]
     },
     "execution_count": 40,
     "metadata": {},
     "output_type": "execute_result"
    }
   ],
   "source": [
    "weekend_repos.head()"
   ]
  },
  {
   "cell_type": "code",
   "execution_count": 41,
   "id": "db361e7e-db13-4167-97c4-9746ebbda846",
   "metadata": {},
   "outputs": [
    {
     "data": {
      "text/plain": [
       "login\n",
       "hemanth22       224\n",
       "anjijava16      178\n",
       "wahidKhan74     176\n",
       "elevenpassin    160\n",
       "Shekharrajak    142\n",
       "Name: count, dtype: int64"
      ]
     },
     "execution_count": 41,
     "metadata": {},
     "output_type": "execute_result"
    }
   ],
   "source": [
    "weekend_repos['login'].value_counts().head()"
   ]
  },
  {
   "cell_type": "markdown",
   "id": "7c139fff-a212-4b5e-8786-e04242a03d48",
   "metadata": {},
   "source": [
    "hemanth22,anjijava16,wahidKhan74,elevenpassin,Shekharrajak"
   ]
  },
  {
   "cell_type": "markdown",
   "id": "70fdd882-4c01-4af2-826e-540e900aa396",
   "metadata": {},
   "source": [
    "# Q15"
   ]
  },
  {
   "cell_type": "code",
   "execution_count": 42,
   "id": "b035d3ad-7c7b-48c4-ad57-baa1b973be53",
   "metadata": {},
   "outputs": [
    {
     "name": "stdout",
     "output_type": "stream",
     "text": [
      "<class 'pandas.core.frame.DataFrame'>\n",
      "RangeIndex: 503 entries, 0 to 502\n",
      "Data columns (total 11 columns):\n",
      " #   Column        Non-Null Count  Dtype              \n",
      "---  ------        --------------  -----              \n",
      " 0   login         503 non-null    object             \n",
      " 1   name          497 non-null    object             \n",
      " 2   company       317 non-null    object             \n",
      " 3   location      503 non-null    object             \n",
      " 4   email         263 non-null    object             \n",
      " 5   hireable      503 non-null    object             \n",
      " 6   bio           415 non-null    object             \n",
      " 7   public_repos  503 non-null    int64              \n",
      " 8   followers     503 non-null    int64              \n",
      " 9   following     503 non-null    int64              \n",
      " 10  created_at    503 non-null    datetime64[ns, UTC]\n",
      "dtypes: datetime64[ns, UTC](1), int64(3), object(7)\n",
      "memory usage: 43.4+ KB\n"
     ]
    }
   ],
   "source": [
    "df_user.info()"
   ]
  },
  {
   "cell_type": "code",
   "execution_count": 43,
   "id": "b1ed58d8-9b5b-4973-9da7-3bfe8d3f5dd3",
   "metadata": {},
   "outputs": [],
   "source": [
    "hireable_users = len(df_user[df_user['hireable'] == True])"
   ]
  },
  {
   "cell_type": "code",
   "execution_count": 44,
   "id": "84bdaa43-486c-44aa-85b8-a8b1247b073b",
   "metadata": {},
   "outputs": [],
   "source": [
    "unhireable_users = len(df_user[df_user['hireable'] != True])"
   ]
  },
  {
   "cell_type": "code",
   "execution_count": 45,
   "id": "bd66331e-a14b-4871-a9ef-9099fbd0d513",
   "metadata": {},
   "outputs": [],
   "source": [
    "hireable_users_email = len(df_user[df_user['hireable'] == True].dropna(subset='email'))"
   ]
  },
  {
   "cell_type": "code",
   "execution_count": 46,
   "id": "5536b6d9-3f26-4860-b588-9cec14de3eed",
   "metadata": {},
   "outputs": [],
   "source": [
    "unhireable_users_email = len(df_user[df_user['hireable'] != True].dropna(subset='email'))"
   ]
  },
  {
   "cell_type": "code",
   "execution_count": 47,
   "id": "3047aac8-b249-4efc-ad43-d3cc71f513c5",
   "metadata": {},
   "outputs": [
    {
     "name": "stdout",
     "output_type": "stream",
     "text": [
      "0.2564641510692957\n"
     ]
    }
   ],
   "source": [
    "print((hireable_users_email/hireable_users)-(unhireable_users_email/unhireable_users))"
   ]
  },
  {
   "cell_type": "markdown",
   "id": "45a65c40-d19e-43fc-810a-f0283f7fadb8",
   "metadata": {},
   "source": [
    "# Q16"
   ]
  },
  {
   "cell_type": "code",
   "execution_count": 55,
   "id": "9e9bee7a-98aa-44a9-87ad-28e6981d75a8",
   "metadata": {},
   "outputs": [],
   "source": [
    "df_user_with_names = df_user.copy()"
   ]
  },
  {
   "cell_type": "code",
   "execution_count": 56,
   "id": "63ed3ee0-2d66-4e7e-a810-277c9332c7a0",
   "metadata": {},
   "outputs": [],
   "source": [
    "df_user_with_names.dropna(subset = 'name', inplace = True)"
   ]
  },
  {
   "cell_type": "code",
   "execution_count": 57,
   "id": "82104b84-c736-4b9f-a479-e55386f01ec8",
   "metadata": {},
   "outputs": [],
   "source": [
    "df_user_with_names['surname'] = df_user_with_names['name'].apply(lambda x: x.lower().strip().split()[-1])"
   ]
  },
  {
   "cell_type": "code",
   "execution_count": 60,
   "id": "078a2cef-368d-43d3-b3bd-5e1bd9dd6d66",
   "metadata": {},
   "outputs": [
    {
     "name": "stdout",
     "output_type": "stream",
     "text": [
      "14\n"
     ]
    }
   ],
   "source": [
    "print(max_count)"
   ]
  },
  {
   "cell_type": "code",
   "execution_count": 66,
   "id": "440ebba1-c592-4dbe-bee2-46f15fe0b1ef",
   "metadata": {},
   "outputs": [
    {
     "data": {
      "text/plain": [
       "surname\n",
       "kumar    14\n",
       "Name: count, dtype: int64"
      ]
     },
     "execution_count": 66,
     "metadata": {},
     "output_type": "execute_result"
    }
   ],
   "source": [
    "# Most common surname\n",
    "surname_counts[surname_counts == max_count]"
   ]
  }
 ],
 "metadata": {
  "kernelspec": {
   "display_name": "Python 3 (ipykernel)",
   "language": "python",
   "name": "python3"
  },
  "language_info": {
   "codemirror_mode": {
    "name": "ipython",
    "version": 3
   },
   "file_extension": ".py",
   "mimetype": "text/x-python",
   "name": "python",
   "nbconvert_exporter": "python",
   "pygments_lexer": "ipython3",
   "version": "3.11.5"
  }
 },
 "nbformat": 4,
 "nbformat_minor": 5
}
